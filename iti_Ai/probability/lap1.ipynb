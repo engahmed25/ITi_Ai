{
 "cells": [
  {
   "cell_type": "code",
   "execution_count": 2,
   "id": "5dbf6a9a",
   "metadata": {},
   "outputs": [],
   "source": [
    "import numpy as np\n",
    "import matplotlib.pyplot as pl"
   ]
  },
  {
   "cell_type": "code",
   "execution_count": null,
   "id": "674e4719",
   "metadata": {},
   "outputs": [],
   "source": []
  },
  {
   "cell_type": "code",
   "execution_count": 6,
   "id": "664ffb1d",
   "metadata": {},
   "outputs": [
    {
     "name": "stdout",
     "output_type": "stream",
     "text": [
      "[[0 0 0]]\n",
      "0.0\n",
      "[[0 1 0]\n",
      " [0 1 0]]\n",
      "1.0\n",
      "[[1 0 0]\n",
      " [1 0 1]\n",
      " [1 0 1]]\n",
      "1.6666666666666667\n",
      "[[1 1 1]\n",
      " [1 0 1]\n",
      " [0 1 0]\n",
      " [0 0 0]]\n",
      "1.5\n",
      "[[0 0 1]\n",
      " [1 0 0]\n",
      " [0 0 0]\n",
      " [0 0 1]\n",
      " [1 0 0]]\n",
      "0.8\n",
      "[[0 1 0]\n",
      " [0 0 0]\n",
      " [1 1 0]\n",
      " [0 0 0]\n",
      " [0 1 1]\n",
      " [0 1 1]]\n",
      "1.1666666666666667\n",
      "[[0 0 0]\n",
      " [0 1 0]\n",
      " [1 0 0]\n",
      " [1 1 1]\n",
      " [0 1 0]\n",
      " [1 1 0]\n",
      " [0 1 0]]\n",
      "1.2857142857142858\n",
      "[[1 1 0]\n",
      " [1 1 0]\n",
      " [1 0 0]\n",
      " [0 1 0]\n",
      " [1 1 1]\n",
      " [0 1 1]\n",
      " [1 0 1]\n",
      " [0 0 1]]\n",
      "1.75\n",
      "[[1 0 1]\n",
      " [0 0 1]\n",
      " [0 1 0]\n",
      " [1 1 0]\n",
      " [0 1 1]\n",
      " [0 1 0]\n",
      " [1 1 0]\n",
      " [0 0 1]\n",
      " [0 0 0]]\n",
      "1.3333333333333333\n",
      "[<matplotlib.lines.Line2D object at 0x00000137935D2310>]\n",
      "None\n"
     ]
    },
    {
     "data": {
      "text/plain": [
       "<matplotlib.lines.Line2D at 0x137935d25b0>"
      ]
     },
     "execution_count": 6,
     "metadata": {},
     "output_type": "execute_result"
    },
    {
     "data": {
      "image/png": "[encoded data removed]",
      "text/plain": [
       "<Figure size 432x288 with 1 Axes>"
      ]
     },
     "metadata": {
      "needs_background": "light"
     },
     "output_type": "display_data"
    }
   ],
   "source": [
    "c = []\n",
    "z = []\n",
    "for i in range (1,10,1) :\n",
    "    n = i \n",
    "    x=np.random.randint(2, size = n)\n",
    "    print(x)\n",
    "    p =np.sum(x) / n\n",
    "    print(p)\n",
    "    c.append(n)\n",
    "    z.append(p)\n",
    "    #print(\"_\"*20)\n",
    "print(pl.plot( c ,  z))\n",
    "print(pl.grid())\n",
    "pl.axhline(y=.5, color ='r')\n"
   ]
  },
  {
   "cell_type": "code",
   "execution_count": null,
   "id": "f27ffb91",
   "metadata": {},
   "outputs": [],
   "source": []
  },
  {
   "cell_type": "code",
   "execution_count": null,
   "id": "e2fc49d2",
   "metadata": {},
   "outputs": [],
   "source": []
  },
  {
   "cell_type": "code",
   "execution_count": null,
   "id": "7cebe71c",
   "metadata": {},
   "outputs": [],
   "source": []
  },
  {
   "cell_type": "code",
   "execution_count": null,
   "id": "fc60e674",
   "metadata": {},
   "outputs": [],
   "source": []
  },
  {
   "cell_type": "code",
   "execution_count": null,
   "id": "1ae77332",
   "metadata": {},
   "outputs": [],
   "source": []
  },
  {
   "cell_type": "code",
   "execution_count": null,
   "id": "94736c6e",
   "metadata": {},
   "outputs": [],
   "source": [
    "x=np.random.randint(2, size = [n,3])"
   ]
  },
  {
   "cell_type": "code",
   "execution_count": null,
   "id": "ba350834",
   "metadata": {},
   "outputs": [],
   "source": []
  },
  {
   "cell_type": "code",
   "execution_count": null,
   "id": "e882fd13",
   "metadata": {},
   "outputs": [],
   "source": []
  }
 ],
 "metadata": {
  "kernelspec": {
   "display_name": "Python 3 (ipykernel)",
   "language": "python",
   "name": "python3"
  },
  "language_info": {
   "codemirror_mode": {
    "name": "ipython",
    "version": 3
   },
   "file_extension": ".py",
   "mimetype": "text/x-python",
   "name": "python",
   "nbconvert_exporter": "python",
   "pygments_lexer": "ipython3",
   "version": "3.9.7"
  },
  "varInspector": {
   "cols": {
    "lenName": 16,
    "lenType": 16,
    "lenVar": 40
   },
   "kernels_config": {
    "python": {
     "delete_cmd_postfix": "",
     "delete_cmd_prefix": "del ",
     "library": "var_list.py",
     "varRefreshCmd": "print(var_dic_list())"
    },
    "r": {
     "delete_cmd_postfix": ") ",
     "delete_cmd_prefix": "rm(",
     "library": "var_list.r",
     "varRefreshCmd": "cat(var_dic_list()) "
    }
   },
   "types_to_exclude": [
    "module",
    "function",
    "builtin_function_or_method",
    "instance",
    "_Feature"
   ],
   "window_display": false
  }
 },
 "nbformat": 4,
 "nbformat_minor": 5
}
